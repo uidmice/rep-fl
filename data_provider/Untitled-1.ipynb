{
 "cells": [
  {
   "cell_type": "code",
   "execution_count": 14,
   "metadata": {},
   "outputs": [
    {
     "name": "stdout",
     "output_type": "stream",
     "text": [
      "test: (449919, 51)\n",
      "train: (495000, 51)\n",
      "(495000, 51)\n",
      "(449919, 51)\n",
      "(449919, 51)\n",
      "(449919, 1)\n",
      "54621.0\n",
      "0.0\n"
     ]
    }
   ],
   "source": [
    "from data_provider.data_loader import SWATSegLoader, MSLSegLoader, SMAPSegLoader\n",
    "import numpy as np\n",
    "import os\n",
    "import pandas as pd\n",
    "ds = SWATSegLoader(root_path='./dataset/SWaT', win_size=100, flag='train')\n",
    "\n",
    "\n",
    "print(ds.train.shape)\n",
    "print(ds.test.shape)\n",
    "print(ds.val.shape)\n",
    "print(ds.test_labels.shape)\n",
    "print(np.sum(ds.test_labels))\n",
    "train_data = pd.read_csv('dataset/SWaT/swat_train2.csv')\n",
    "print(np.sum(train_data.values[:,-1:]))\n",
    "\n"
   ]
  },
  {
   "cell_type": "code",
   "execution_count": 7,
   "metadata": {},
   "outputs": [
    {
     "name": "stdout",
     "output_type": "stream",
     "text": [
      "test: (73729, 55)\n",
      "train: (58317, 55)\n",
      "(58317, 55)\n",
      "(73729, 55)\n",
      "[ 2.47031394e+00  0.00000000e+00 -4.14100864e-03 -7.17256035e-03\n",
      "  0.00000000e+00 -3.06367075e-01 -2.48535112e-02 -2.23053695e-02\n",
      "  0.00000000e+00 -1.24238781e-02  0.00000000e+00  5.77622380e+00\n",
      " -1.14986545e-01 -1.29029657e-01 -1.31884722e-01 -5.85632079e-03\n",
      " -7.17256035e-03 -4.14100864e-03  0.00000000e+00 -6.38794060e-02\n",
      " -2.34313110e-02  0.00000000e+00  0.00000000e+00 -5.85632079e-03\n",
      "  0.00000000e+00  0.00000000e+00  0.00000000e+00 -1.19864366e-01\n",
      " -4.14100864e-03 -1.54959629e-02  0.00000000e+00 -1.43462278e-02\n",
      "  0.00000000e+00 -1.68820553e-01  0.00000000e+00 -7.58966999e-02\n",
      "  0.00000000e+00  0.00000000e+00  0.00000000e+00 -6.20957829e-02\n",
      "  0.00000000e+00 -3.90957066e-02  0.00000000e+00 -4.22675115e-02\n",
      "  0.00000000e+00 -1.09566427e-02 -4.14100864e-03 -9.60416922e-02\n",
      " -4.14100864e-03 -9.78439408e-02  0.00000000e+00  0.00000000e+00\n",
      "  0.00000000e+00 -2.84005284e-02 -3.49137197e-02]\n"
     ]
    }
   ],
   "source": [
    "msl = MSLSegLoader(root_path='./dataset/MSL', win_size=100, flag='train')\n",
    "print(msl.train.shape)\n",
    "print(msl.test.shape)\n",
    "print(msl.train[0])"
   ]
  },
  {
   "cell_type": "code",
   "execution_count": 9,
   "metadata": {},
   "outputs": [
    {
     "name": "stdout",
     "output_type": "stream",
     "text": [
      "test: (427617, 25)\n",
      "train: (135183, 25)\n",
      "(135183, 25)\n",
      "(427617, 25)\n",
      "[ 1.5037738  -0.16835638 -0.07337943 -0.1489996  -0.01609271 -0.38326478\n",
      " -0.32963183 -0.03310607 -0.01923554 -0.0219331  -0.00271982 -0.03310607\n",
      " -0.01942701 -0.02478628 -0.02478628 -0.00543971  0.         -0.14601534\n",
      " -0.14503469 -0.1047426  -0.00942212 -0.17219732 -0.16723791 -0.0066623\n",
      " -0.00384642]\n"
     ]
    }
   ],
   "source": [
    "smap = SMAPSegLoader(root_path='./dataset/SMAP', win_size=100, flag='train')\n",
    "print(smap.train.shape)\n",
    "print(smap.test.shape)\n",
    "print(smap.train[0])"
   ]
  }
 ],
 "metadata": {
  "kernelspec": {
   "display_name": "Python 3",
   "language": "python",
   "name": "python3"
  },
  "language_info": {
   "codemirror_mode": {
    "name": "ipython",
    "version": 3
   },
   "file_extension": ".py",
   "mimetype": "text/x-python",
   "name": "python",
   "nbconvert_exporter": "python",
   "pygments_lexer": "ipython3",
   "version": "3.11.7"
  }
 },
 "nbformat": 4,
 "nbformat_minor": 2
}
