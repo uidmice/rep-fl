{
 "cells": [
  {
   "cell_type": "code",
   "execution_count": 2,
   "metadata": {},
   "outputs": [],
   "source": [
    "from data_provider.data_loader import Dataset_ETT_minute\n",
    "import os\n",
    "ds = Dataset_ETT_minute(root_path='./dataset/ETT-small',  flag='train')\n",
    "\n",
    "\n",
    "\n"
   ]
  },
  {
   "cell_type": "code",
   "execution_count": 5,
   "metadata": {},
   "outputs": [
    {
     "name": "stdout",
     "output_type": "stream",
     "text": [
      "(34560, 10)\n"
     ]
    }
   ],
   "source": [
    "import numpy as np\n",
    "\n",
    "ds.data_x = np.concatenate([ds.data_x, np.zeros((ds.data_x.shape[0], 3))], axis=1)\n",
    "print(ds.data_x.shape)"
   ]
  },
  {
   "cell_type": "code",
   "execution_count": 9,
   "metadata": {},
   "outputs": [
    {
     "name": "stdout",
     "output_type": "stream",
     "text": [
      "test: (427617, 25)\n",
      "train: (135183, 25)\n",
      "(135183, 25)\n",
      "(427617, 25)\n",
      "[ 1.5037738  -0.16835638 -0.07337943 -0.1489996  -0.01609271 -0.38326478\n",
      " -0.32963183 -0.03310607 -0.01923554 -0.0219331  -0.00271982 -0.03310607\n",
      " -0.01942701 -0.02478628 -0.02478628 -0.00543971  0.         -0.14601534\n",
      " -0.14503469 -0.1047426  -0.00942212 -0.17219732 -0.16723791 -0.0066623\n",
      " -0.00384642]\n"
     ]
    }
   ],
   "source": [
    "smap = SMAPSegLoader(root_path='./dataset/SMAP', win_size=100, flag='train')\n",
    "print(smap.train.shape)\n",
    "print(smap.test.shape)\n",
    "print(smap.train[0])"
   ]
  }
 ],
 "metadata": {
  "kernelspec": {
   "display_name": "Python 3",
   "language": "python",
   "name": "python3"
  },
  "language_info": {
   "codemirror_mode": {
    "name": "ipython",
    "version": 3
   },
   "file_extension": ".py",
   "mimetype": "text/x-python",
   "name": "python",
   "nbconvert_exporter": "python",
   "pygments_lexer": "ipython3",
   "version": "3.11.7"
  }
 },
 "nbformat": 4,
 "nbformat_minor": 2
}
